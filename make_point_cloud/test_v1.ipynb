{
 "cells": [
  {
   "cell_type": "code",
   "execution_count": 57,
   "metadata": {},
   "outputs": [],
   "source": [
    "import numpy as np\n",
    "import cv2\n",
    "import matplotlib.pyplot as plt\n",
    "from utils_bb import *\n",
    "from utils_walkdemo import *\n",
    "import scipy\n",
    "from skimage import color,io"
   ]
  },
  {
   "cell_type": "code",
   "execution_count": 87,
   "metadata": {},
   "outputs": [],
   "source": [
    "res = np.loadtxt('keys/test.ply')"
   ]
  },
  {
   "cell_type": "code",
   "execution_count": 94,
   "metadata": {},
   "outputs": [
    {
     "data": {
      "text/plain": [
       "array([[[119, 134, 153]]], dtype=uint8)"
      ]
     },
     "execution_count": 94,
     "metadata": {},
     "output_type": "execute_result"
    }
   ],
   "source": [
    "np.array([[[res[i,3],res[i,4],res[i,5]]]]).astype(np.uint8)"
   ]
  },
  {
   "cell_type": "code",
   "execution_count": 9,
   "metadata": {
    "scrolled": true
   },
   "outputs": [
    {
     "data": {
      "text/plain": [
       "[0.787243, -1.447107]"
      ]
     },
     "execution_count": 9,
     "metadata": {},
     "output_type": "execute_result"
    }
   ],
   "source": [
    "[max(res[:,0]), min(res[:,0])]"
   ]
  },
  {
   "cell_type": "code",
   "execution_count": 44,
   "metadata": {},
   "outputs": [
    {
     "data": {
      "text/plain": [
       "22"
      ]
     },
     "execution_count": 44,
     "metadata": {},
     "output_type": "execute_result"
    }
   ],
   "source": [
    "l_x= [max(res[:,0]), min(res[:,0])]\n",
    "int(np.around((l_x[0] - l_x[1])/0.1))"
   ]
  },
  {
   "cell_type": "code",
   "execution_count": 95,
   "metadata": {},
   "outputs": [],
   "source": [
    "def from_ply_to_minecraft(res, cube_size):\n",
    "    l_x = [max(res[:,0]), min(res[:,0])]\n",
    "    n_x = int(np.around((l_x[0] - l_x[1])/cube_size)) # x is height plus negative\n",
    "    l_y = [max(res[:,1]), min(res[:,1])]\n",
    "    n_y = int(np.around((l_y[0] - l_y[1])/cube_size))\n",
    "    l_z = [max(res[:,2]), min(res[:,2])]\n",
    "    n_z = int(np.around((l_z[0] - l_z[1])/cube_size))\n",
    "    camera_pos = [int(np.floor((l_x[0])/cube_size)), \n",
    "                  int(np.floor((-l_y[1])/cube_size)), int(np.floor((-l_z[1])/cube_size))]\n",
    "    # initilization of index in 3d world\n",
    "    box3d = []\n",
    "    list_direction = []\n",
    "    list_direction.append(camera_pos)\n",
    "    for i in range(n_x+1):\n",
    "        box3d.append(scipy.sparse.coo_matrix((n_y+1,n_z+1),dtype=np.int8).tolil())\n",
    "    #fill the two lists\n",
    "    num_cube = 0\n",
    "    for i in range(len(res)):\n",
    "        x = int(np.floor((l_x[0] - res[i,0])/cube_size))\n",
    "        y = int(np.floor((res[i,1] - l_y[1])/cube_size))\n",
    "        z = int(np.floor((res[i,2] - l_z[1])/cube_size))\n",
    "        rgb = np.array([[[res[i,3],res[i,4],res[i,5]]]]).astype(np.uint8)\n",
    "        if box3d[x][y,z] == 0:\n",
    "            box3d[x][y,z] = num_cube+1\n",
    "            idx = {}\n",
    "            idx['x'] = x - camera_pos[0]\n",
    "            idx['y'] = y - camera_pos[1]\n",
    "            idx['z'] = z - camera_pos[2]\n",
    "            idx['density'] = 1\n",
    "            idx['rgb'] = color.rgb2lab(rgb)\n",
    "            list_direction.append(idx)\n",
    "            num_cube = num_cube + 1\n",
    "        else :\n",
    "            idx = list_direction[box3d[x][y,z]]\n",
    "            temp = idx['density']*idx['rgb'] + color.rgb2lab(rgb)\n",
    "            idx['density'] = idx['density'] + 1\n",
    "            idx['rgb'] = temp/idx['density'] \n",
    "    return box3d, list_direction "
   ]
  },
  {
   "cell_type": "code",
   "execution_count": 96,
   "metadata": {},
   "outputs": [],
   "source": [
    "a,b = from_ply_to_minecraft(res, 0.1)"
   ]
  },
  {
   "cell_type": "code",
   "execution_count": 60,
   "metadata": {},
   "outputs": [
    {
     "data": {
      "text/plain": [
       "<matplotlib.image.AxesImage at 0x169bf978e10>"
      ]
     },
     "execution_count": 60,
     "metadata": {},
     "output_type": "execute_result"
    },
    {
     "data": {
      "image/png": "[encoded data removed]",
      "text/plain": [
       "<Figure size 432x288 with 1 Axes>"
      ]
     },
     "metadata": {},
     "output_type": "display_data"
    }
   ],
   "source": [
    "map_rgb = io.imread(\"colour_map.png\")\n",
    "plt.imshow(map_rgb)"
   ]
  },
  {
   "cell_type": "code",
   "execution_count": 89,
   "metadata": {},
   "outputs": [
    {
     "data": {
      "text/plain": [
       "(20480, 6)"
      ]
     },
     "execution_count": 89,
     "metadata": {},
     "output_type": "execute_result"
    }
   ],
   "source": [
    "res.shape"
   ]
  },
  {
   "cell_type": "code",
   "execution_count": 91,
   "metadata": {},
   "outputs": [
    {
     "data": {
      "text/plain": [
       "array([86, 74, 46], dtype=uint8)"
      ]
     },
     "execution_count": 91,
     "metadata": {},
     "output_type": "execute_result"
    }
   ],
   "source": [
    "map_rgb[0,0,:]"
   ]
  },
  {
   "cell_type": "code",
   "execution_count": 99,
   "metadata": {},
   "outputs": [],
   "source": [
    "def labcolor_to_blockid(lab, map_lab):\n",
    "    colours = {(0, 0): (2, 0),\n",
    "           (0, 1): (3, 0),\n",
    "           (0, 2): (4, 0),\n",
    "           (0, 3): (5, 0),\n",
    "           (0, 4): (7, 0),\n",
    "           (0, 5): (14, 0),\n",
    "           (0, 6): (15, 0),\n",
    "           (1, 0): (16, 0),\n",
    "           (1, 1): (17, 0),\n",
    "           (1, 2): (21, 0),\n",
    "           (1, 3): (22, 0),\n",
    "           (1, 4): (24, 0),\n",
    "           (1, 5): (35, 0),\n",
    "           (1, 6): (35, 1),\n",
    "           (2, 0): (35, 2),\n",
    "           (2, 1): (35, 3),\n",
    "           (2, 2): (35, 4),\n",
    "           (2, 3): (35, 5),\n",
    "           (2, 4): (35, 6),\n",
    "           (2, 5): (35, 7),\n",
    "           (2, 6): (35, 8),\n",
    "           (3, 0): (35, 9),\n",
    "           (3, 1): (35, 10),\n",
    "           (3, 2): (35, 11),\n",
    "           (3, 3): (35, 12),\n",
    "           (3, 4): (35, 13),\n",
    "           (3, 5): (35, 14),\n",
    "           (3, 6): (35, 15),\n",
    "           (4, 0): (41, 0),\n",
    "           (4, 1): (42, 0),\n",
    "           (4, 2): (43, 0),\n",
    "           (4, 3): (45, 0),\n",
    "           (4, 4): (46, 1),\n",
    "           (4, 5): (47, 0),\n",
    "           (4, 6): (48, 0),\n",
    "           (5, 0): (49, 0),\n",
    "           (5, 1): (54, 0),\n",
    "           (5, 2): (56, 0),\n",
    "           (5, 3): (57, 0),\n",
    "           (5, 4): (58, 0),\n",
    "           (5, 5): (60, 0),\n",
    "           (5, 6): (61, 0),\n",
    "           (6, 0): (73, 0),\n",
    "           (6, 1): (79, 0),\n",
    "           (6, 2): (80, 0),\n",
    "           (6, 3): (82, 0),\n",
    "           (6, 4): (89, 0),\n",
    "           (6, 5): (103, 0),\n",
    "           (6, 6): (246, 0)}\n",
    "    distance = 300\n",
    "    for k, map_column in enumerate(map_lab):\n",
    "        for l, map_pixel in enumerate(map_column):\n",
    "            delta = color.deltaE_cie76(lab.reshape(3),map_pixel)\n",
    "            #print(delta, map_pixel)\n",
    "            if delta < distance:\n",
    "                distance = delta\n",
    "                block = colours[(k,l)]\n",
    "    return block"
   ]
  },
  {
   "cell_type": "code",
   "execution_count": 100,
   "metadata": {},
   "outputs": [],
   "source": [
    "def minecraft_xyz_block( list_direction ):\n",
    "    num = len(list_direction) - 1\n",
    "    xyz = np.zeros((num,3),dtype=np.int8)\n",
    "    blocks = []\n",
    "    map_rgb = io.imread(\"colour_map.png\")\n",
    "    map_lab = color.rgb2lab(map_rgb)\n",
    "    \n",
    "    for i in range(num):\n",
    "        xyz[i,1] = list_direction[i+1]['x']\n",
    "        xyz[i,0] = list_direction[i+1]['y']\n",
    "        xyz[i,2] = - list_direction[i+1]['z']\n",
    "        blocks.append(labcolor_to_blockid(list_direction[i+1]['rgb'], map_lab))\n",
    "    \n",
    "    return xyz, blocks"
   ]
  },
  {
   "cell_type": "code",
   "execution_count": 64,
   "metadata": {},
   "outputs": [],
   "source": [
    "a,b = from_ply_to_minecraft(res, 0.1)"
   ]
  },
  {
   "cell_type": "code",
   "execution_count": 98,
   "metadata": {},
   "outputs": [
    {
     "data": {
      "text/plain": [
       "array([72.79561654,  4.69836584, -0.61107391])"
      ]
     },
     "execution_count": 98,
     "metadata": {},
     "output_type": "execute_result"
    }
   ],
   "source": [
    "b[1]['rgb'].reshape(3)"
   ]
  },
  {
   "cell_type": "code",
   "execution_count": 101,
   "metadata": {},
   "outputs": [],
   "source": [
    "xyz, blocks = minecraft_xyz_block( b)"
   ]
  },
  {
   "cell_type": "code",
   "execution_count": null,
   "metadata": {},
   "outputs": [],
   "source": []
  },
  {
   "cell_type": "code",
   "execution_count": null,
   "metadata": {},
   "outputs": [],
   "source": []
  },
  {
   "cell_type": "code",
   "execution_count": 125,
   "metadata": {},
   "outputs": [
    {
     "data": {
      "text/plain": [
       "<matplotlib.image.AxesImage at 0x28bdbf71710>"
      ]
     },
     "execution_count": 125,
     "metadata": {},
     "output_type": "execute_result"
    },
    {
     "data": {
      "image/png": "[encoded data removed]",
      "text/plain": [
       "<Figure size 432x288 with 2 Axes>"
      ]
     },
     "metadata": {},
     "output_type": "display_data"
    }
   ],
   "source": [
    "dep = np.load('keys/deps/dep_2.npy')\n",
    "image = cv2.imread('keys/images/img/2.jpg')\n",
    "image = cv2.resize(image,(160,128))\n",
    "plt.subplot(121); plt.imshow(dep.reshape(128,160))\n",
    "plt.subplot(122); plt.imshow(image)"
   ]
  },
  {
   "cell_type": "code",
   "execution_count": 1,
   "metadata": {},
   "outputs": [],
   "source": [
    "import os"
   ]
  },
  {
   "cell_type": "code",
   "execution_count": null,
   "metadata": {},
   "outputs": [],
   "source": []
  },
  {
   "cell_type": "code",
   "execution_count": null,
   "metadata": {},
   "outputs": [],
   "source": []
  },
  {
   "cell_type": "code",
   "execution_count": null,
   "metadata": {},
   "outputs": [],
   "source": []
  },
  {
   "cell_type": "code",
   "execution_count": 39,
   "metadata": {},
   "outputs": [],
   "source": [
    "def reject_outliers(data, m=2):\n",
    "    return data[abs(data - np.mean(data)) < m * np.std(data)]"
   ]
  },
  {
   "cell_type": "code",
   "execution_count": 104,
   "metadata": {},
   "outputs": [],
   "source": [
    "mtx = np.eye(3)\n",
    "mtx[0,0]=200\n",
    "mtx[1,1]=200\n",
    "mtx[0,2]=64\n",
    "mtx[1,2]=80"
   ]
  },
  {
   "cell_type": "code",
   "execution_count": 107,
   "metadata": {},
   "outputs": [
    {
     "data": {
      "text/plain": [
       "array([[ 0.005,  0.   , -0.32 ],\n",
       "       [ 0.   ,  0.005, -0.4  ],\n",
       "       [ 0.   ,  0.   ,  1.   ]])"
      ]
     },
     "execution_count": 107,
     "metadata": {},
     "output_type": "execute_result"
    }
   ],
   "source": [
    "np.linalg.inv(mtx)"
   ]
  },
  {
   "cell_type": "code",
   "execution_count": 135,
   "metadata": {},
   "outputs": [],
   "source": [
    "res_new_image = vert_new(image, dep.reshape((128,160)), np.eye(3,4),mtx, False)\n",
    "write_ply('keys/'+ str(1111) +'.ply', res_new_image)"
   ]
  },
  {
   "cell_type": "code",
   "execution_count": 136,
   "metadata": {},
   "outputs": [],
   "source": [
    "res_new_image = vert_alphabot(image, dep.reshape((128,160)), np.eye(3,4),mtx, False)\n",
    "write_ply('keys/'+ str(111) +'.ply', res_new_image)"
   ]
  }
 ],
 "metadata": {
  "kernelspec": {
   "display_name": "python 3.5 tf gpu",
   "language": "python",
   "name": "tensorflow_gpu"
  },
  "language_info": {
   "codemirror_mode": {
    "name": "ipython",
    "version": 3
   },
   "file_extension": ".py",
   "mimetype": "text/x-python",
   "name": "python",
   "nbconvert_exporter": "python",
   "pygments_lexer": "ipython3",
   "version": "3.5.5"
  }
 },
 "nbformat": 4,
 "nbformat_minor": 2
}
