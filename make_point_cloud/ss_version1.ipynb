{
 "cells": [
  {
   "cell_type": "code",
   "execution_count": 1,
   "metadata": {},
   "outputs": [],
   "source": [
    "import sys\n",
    "import cv2\n",
    "import numpy as np\n",
    "import glob\n",
    "import matplotlib.pyplot as plt\n",
    "from scipy import signal\n",
    "import os\n",
    "from mpl_toolkits.mplot3d import Axes3D\n",
    "import matplotlib.pyplot as plt\n",
    "import scipy.optimize\n",
    "import functools\n",
    "\n",
    "from utils_bb import *\n",
    "\n",
    "from pathlib import Path\n",
    "from shapely.geometry import Polygon\n"
   ]
  },
  {
   "cell_type": "code",
   "execution_count": 1,
   "metadata": {},
   "outputs": [],
   "source": [
    "import urllib.request\n",
    "import glob\n",
    "import os"
   ]
  },
  {
   "cell_type": "code",
   "execution_count": 35,
   "metadata": {},
   "outputs": [],
   "source": [
    "M = np.loadtxt('F:/pfe/slam/ORB_slam2/KeyFrameTrajectory.txt')"
   ]
  },
  {
   "cell_type": "code",
   "execution_count": 49,
   "metadata": {},
   "outputs": [
    {
     "data": {
      "text/plain": [
       "array([[ 0.       ,  0.       ,  0.       ],\n",
       "       [-0.0350121, -0.0051687,  0.0383322],\n",
       "       [-0.0378237, -0.0058158,  0.0411651],\n",
       "       [-0.0625286, -0.0146146,  0.060592 ],\n",
       "       [-0.0994656, -0.0214708,  0.079212 ],\n",
       "       [-0.2720173, -0.0329183,  0.1083557],\n",
       "       [-0.2874094, -0.0442295,  0.1286029],\n",
       "       [-0.3363717, -0.0764576,  0.1525091],\n",
       "       [-0.3887813, -0.0846091,  0.1511852],\n",
       "       [-0.3940757, -0.086347 ,  0.1554891],\n",
       "       [-0.417761 , -0.09296  ,  0.1736875],\n",
       "       [-0.6090913, -0.1142515,  0.1970139],\n",
       "       [-0.6173984, -0.1154265,  0.1981115],\n",
       "       [-0.6468322, -0.1257349,  0.212299 ],\n",
       "       [-0.6623391, -0.1334539,  0.2222495],\n",
       "       [-0.6908793, -0.154446 ,  0.2437886],\n",
       "       [-0.7804837, -0.2000695,  0.3142458],\n",
       "       [-0.7977267, -0.2049689,  0.315237 ],\n",
       "       [-0.7988909, -0.2068745,  0.3177328],\n",
       "       [-0.8427098, -0.2175072,  0.3246414],\n",
       "       [-0.9233402, -0.2315229,  0.3220238],\n",
       "       [-0.9538378, -0.2381633,  0.326    ],\n",
       "       [-0.9582232, -0.2345558,  0.3291999],\n",
       "       [-0.9635369, -0.2331313,  0.3305271]])"
      ]
     },
     "execution_count": 49,
     "metadata": {},
     "output_type": "execute_result"
    }
   ],
   "source": [
    "M[:,1:4]"
   ]
  },
  {
   "cell_type": "markdown",
   "metadata": {},
   "source": [
    "# new all in one"
   ]
  },
  {
   "cell_type": "code",
   "execution_count": 1,
   "metadata": {},
   "outputs": [],
   "source": [
    "from utils_realtime import *"
   ]
  },
  {
   "cell_type": "code",
   "execution_count": 2,
   "metadata": {
    "scrolled": true
   },
   "outputs": [
    {
     "data": {
      "text/plain": [
       "0"
      ]
     },
     "execution_count": 2,
     "metadata": {},
     "output_type": "execute_result"
    }
   ],
   "source": [
    "scan_surrounding(10)"
   ]
  },
  {
   "cell_type": "code",
   "execution_count": null,
   "metadata": {},
   "outputs": [],
   "source": []
  },
  {
   "cell_type": "code",
   "execution_count": 4,
   "metadata": {},
   "outputs": [
    {
     "data": {
      "text/plain": [
       "0"
      ]
     },
     "execution_count": 4,
     "metadata": {},
     "output_type": "execute_result"
    }
   ],
   "source": [
    "images = glob.glob('F:/pfe/segmentation/images/0/*.jpg')\n",
    "make_dir()\n",
    "recal = True\n",
    "get_segmentation(images, recal)\n",
    "seperate_seg()"
   ]
  },
  {
   "cell_type": "code",
   "execution_count": 27,
   "metadata": {},
   "outputs": [],
   "source": [
    "from utils_bb import *"
   ]
  },
  {
   "cell_type": "code",
   "execution_count": 7,
   "metadata": {},
   "outputs": [],
   "source": [
    "delete_module('utils_bb')\n",
    "from utils_bb import *"
   ]
  },
  {
   "cell_type": "code",
   "execution_count": 8,
   "metadata": {},
   "outputs": [],
   "source": [
    "#reset\n",
    "images = glob.glob('keys/*.*p*')\n",
    "for file in images:\n",
    "    os.remove(file)    \n",
    "images = glob.glob('keys/Ms/*.*')\n",
    "for file in images:\n",
    "    os.remove(file)  \n",
    "images = glob.glob('keys/objs/*.*')\n",
    "for file in images:\n",
    "    os.remove(file)\n",
    "images = glob.glob('keys/res/*.*')\n",
    "for file in images:\n",
    "    os.remove(file)\n",
    "images = glob.glob('keys/images/img/*.*')\n",
    "for file in images:\n",
    "    os.remove(file)"
   ]
  },
  {
   "cell_type": "code",
   "execution_count": 9,
   "metadata": {
    "scrolled": false
   },
   "outputs": [
    {
     "name": "stdout",
     "output_type": "stream",
     "text": [
      "Start matching the image  F:/pfe/slam/ORB_slam2/image_test\\000157.png\n",
      "      ->    [1. 0. 0. 0.]\n",
      "      ->    [0. 1. 0. 0.]\n",
      "      ->    [0. 0. 1. 0.]\n",
      " the process of image 1 is finished.\n",
      " \n",
      "Start matching the image  F:/pfe/slam/ORB_slam2/image_test\\000190.png\n",
      "      ->    [ 0.99996533 -0.00246764  0.00795234 -0.0051687 ]\n",
      "      ->    [ 0.00252715  0.99996881 -0.00748226  0.0383322 ]\n",
      "      ->    [-0.00793362  0.0075021   0.99994039 -0.0350121 ]\n",
      " the process of image 2 is finished.\n",
      " \n",
      "Start matching the image  F:/pfe/slam/ORB_slam2/image_test\\000191.png\n",
      "      ->    [ 0.99996549 -0.00308817  0.00771219 -0.0058158 ]\n",
      "      ->    [ 0.00316032  0.99995119 -0.00936071  0.0411651 ]\n",
      "      ->    [-0.0076829   0.00938476  0.99992645 -0.0378237 ]\n",
      " the process of image 3 is finished.\n",
      " \n",
      "Start matching the image  F:/pfe/slam/ORB_slam2/image_test\\000199.png\n",
      "      ->    [ 0.9999421  -0.00802247  0.0071719  -0.0146146 ]\n",
      "      ->    [ 0.00819456  0.9996712  -0.02429686  0.060592  ]\n",
      "      ->    [-0.00697462  0.02435423  0.99967906 -0.0625286 ]\n",
      " the process of image 4 is finished.\n",
      " \n",
      "Start matching the image  F:/pfe/slam/ORB_slam2/image_test\\000209.png\n",
      "      ->    [ 0.99991281 -0.01115509  0.00706696 -0.0214708 ]\n",
      "      ->    [ 0.01138768  0.99936457 -0.03377539  0.079212  ]\n",
      "      ->    [-0.0066857   0.03385292  0.99940446 -0.0994656 ]\n",
      " the process of image 5 is finished.\n",
      " \n",
      "Start matching the image  F:/pfe/slam/ORB_slam2/image_test\\000278.png\n",
      "      ->    [ 0.99765073  0.02215144  0.0648254  -0.0329183 ]\n",
      "      ->    [-0.02686303  0.99698936  0.07273643  0.1083557 ]\n",
      "      ->    [-0.06301902 -0.07430696  0.99524222 -0.2720173 ]\n",
      " the process of image 6 is finished.\n",
      " \n",
      "Start matching the image  F:/pfe/slam/ORB_slam2/image_test\\000295.png\n",
      "      ->    [ 0.9963068   0.04062804  0.07564467 -0.0442295 ]\n",
      "      ->    [-0.05061671  0.98952427  0.13520235  0.1286029 ]\n",
      "      ->    [-0.06935923 -0.13853191  0.98792622 -0.2874094 ]\n",
      " the process of image 7 is finished.\n",
      " \n",
      "Start matching the image  F:/pfe/slam/ORB_slam2/image_test\\000333.png\n",
      "      ->    [ 0.98736527  0.10124867  0.1218956  -0.0764576 ]\n",
      "      ->    [-0.13850058  0.92515688  0.35341523  0.1525091 ]\n",
      "      ->    [-0.07698973 -0.36583254  0.92749077 -0.3363717 ]\n",
      " the process of image 8 is finished.\n",
      " \n",
      "Start matching the image  F:/pfe/slam/ORB_slam2/image_test\\000384.png\n",
      "      ->    [ 0.97729723  0.1167854   0.17678037 -0.0846091 ]\n",
      "      ->    [-0.18471754  0.87832685  0.44093238  0.1511852 ]\n",
      "      ->    [-0.10377648 -0.46357643  0.87995871 -0.3887813 ]\n",
      " the process of image 9 is finished.\n",
      " \n",
      "Start matching the image  F:/pfe/slam/ORB_slam2/image_test\\000387.png\n",
      "      ->    [ 0.97815834  0.1152938   0.17295547 -0.086347  ]\n",
      "      ->    [-0.18065562  0.88309011  0.43303049  0.1554891 ]\n",
      "      ->    [-0.10280954 -0.45481776  0.88463043 -0.3940757 ]\n",
      " the process of image 10 is finished.\n",
      " \n",
      "Start matching the image  F:/pfe/slam/ORB_slam2/image_test\\000396.png\n",
      "      ->    [ 0.98053964  0.11071382  0.16212484 -0.09296   ]\n",
      "      ->    [-0.16897169  0.89638009  0.40981862  0.1736875 ]\n",
      "      ->    [-0.09995289 -0.42923791  0.89764371 -0.417761  ]\n",
      " the process of image 11 is finished.\n",
      " \n",
      "Start matching the image  F:/pfe/slam/ORB_slam2/image_test\\000455.png\n",
      "      ->    [ 0.98231222  0.10666026  0.15390352 -0.1142515 ]\n",
      "      ->    [-0.15964017  0.90660384  0.39062066  0.1970139 ]\n",
      "      ->    [-0.09786582 -0.40828063  0.90759529 -0.6090913 ]\n",
      " the process of image 12 is finished.\n",
      " \n",
      "Start matching the image  F:/pfe/slam/ORB_slam2/image_test\\000459.png\n",
      "      ->    [ 0.98130997  0.1093911   0.15831717 -0.1154265 ]\n",
      "      ->    [-0.16533355  0.90024807  0.40276324  0.1981115 ]\n",
      "      ->    [-0.09846601 -0.42141073  0.90150843 -0.6173984 ]\n",
      " the process of image 13 is finished.\n",
      " \n",
      "Start matching the image  F:/pfe/slam/ORB_slam2/image_test\\000469.png\n",
      "      ->    [ 0.97843094  0.11597295  0.17094783 -0.1257349 ]\n",
      "      ->    [-0.18043236  0.88272621  0.43386473  0.212299  ]\n",
      "      ->    [-0.10058356 -0.4553512   0.88461191 -0.6468322 ]\n",
      " the process of image 14 is finished.\n",
      " \n",
      "Start matching the image  F:/pfe/slam/ORB_slam2/image_test\\000474.png\n",
      "      ->    [ 0.97693439  0.1182866   0.17778492 -0.1334539 ]\n",
      "      ->    [-0.18723099  0.87482978  0.44678565  0.2222495 ]\n",
      "      ->    [-0.10268279 -0.46976712  0.87679821 -0.6623391 ]\n",
      " the process of image 15 is finished.\n",
      " \n",
      "Start matching the image  F:/pfe/slam/ORB_slam2/image_test\\000484.png\n",
      "      ->    [ 0.97446074  0.12113247  0.18908513 -0.154446  ]\n",
      "      ->    [-0.19753968  0.86284325  0.46527369  0.2437886 ]\n",
      "      ->    [-0.10679107 -0.49074276  0.86473534 -0.6908793 ]\n",
      " the process of image 16 is finished.\n",
      " \n",
      "Start matching the image  F:/pfe/slam/ORB_slam2/image_test\\000543.png\n",
      "      ->    [ 0.9811746   0.12747008  0.14507856 -0.2000695 ]\n",
      "      ->    [-0.18040594  0.87307073  0.45299139  0.3142458 ]\n",
      "      ->    [-0.06892099 -0.47063667  0.87963118 -0.7804837 ]\n",
      " the process of image 17 is finished.\n",
      " \n",
      "Start matching the image  F:/pfe/slam/ORB_slam2/image_test\\000547.png\n",
      "      ->    [ 0.9825482   0.12562798  0.13717376 -0.2049689 ]\n",
      "      ->    [-0.17418846  0.88012511  0.44163125  0.315237  ]\n",
      "      ->    [-0.06524883 -0.45781808  0.88664829 -0.7977267 ]\n",
      " the process of image 18 is finished.\n",
      " \n",
      "Start matching the image  F:/pfe/slam/ORB_slam2/image_test\\000548.png\n",
      "      ->    [ 0.98269639  0.1258151   0.13593515 -0.2068745 ]\n",
      "      ->    [-0.17376513  0.88033547  0.44137867  0.3177328 ]\n",
      "      ->    [-0.06413643 -0.45736202  0.88696477 -0.7988909 ]\n",
      " the process of image 19 is finished.\n",
      " \n",
      "Start matching the image  F:/pfe/slam/ORB_slam2/image_test\\000558.png\n",
      "      ->    [ 0.98482981  0.12333     0.12206537 -0.2175072 ]\n",
      "      ->    [-0.16411494  0.89049225  0.42436993  0.3246414 ]\n",
      "      ->    [-0.05636072 -0.4379649   0.89722361 -0.8427098 ]\n",
      " the process of image 20 is finished.\n",
      " \n",
      "Start matching the image  F:/pfe/slam/ORB_slam2/image_test\\000576.png\n",
      "      ->    [ 0.98600274  0.12216006  0.11347033 -0.2315229 ]\n",
      "      ->    [-0.15876749  0.8957271   0.41529008  0.3220238 ]\n",
      "      ->    [-0.05090659 -0.42749255  0.90258442 -0.9233402 ]\n",
      " the process of image 21 is finished.\n",
      " \n",
      "Start matching the image  F:/pfe/slam/ORB_slam2/image_test\\000588.png\n",
      "      ->    [ 0.98496721  0.12474113  0.11949577 -0.2381633 ]\n",
      "      ->    [-0.16442116  0.88911504  0.4271301   0.326     ]\n",
      "      ->    [-0.05296479 -0.44035678  0.89625925 -0.9538378 ]\n",
      " the process of image 22 is finished.\n",
      " \n",
      "Start matching the image  F:/pfe/slam/ORB_slam2/image_test\\000593.png\n",
      "      ->    [ 0.98374386  0.1297978   0.12409892 -0.2345558 ]\n",
      "      ->    [-0.17214229  0.87839762  0.44585272  0.3291999 ]\n",
      "      ->    [-0.05113749 -0.45996755  0.88646196 -0.9582232 ]\n",
      " the process of image 23 is finished.\n",
      " \n",
      "Start matching the image  F:/pfe/slam/ORB_slam2/image_test\\000597.png\n",
      "      ->    [ 0.98221679  0.13490754  0.13057613 -0.2331313 ]\n",
      "      ->    [-0.18091154  0.86605883  0.46606129  0.3305271 ]\n",
      "      ->    [-0.05021143 -0.48139596  0.87506385 -0.9635369 ]\n",
      " the process of image 24 is finished.\n",
      " \n"
     ]
    }
   ],
   "source": [
    "images = glob.glob('F:/pfe/slam/ORB_slam2/image_test/*.png')\n",
    "i = 1\n",
    "if_add_bounding_box = False\n",
    "\n",
    "res = None\n",
    "for imagefile in images:\n",
    "    depfile = 'keys/deps/'+str(i)+'.npy'\n",
    "    calu_dep(imagefile,depfile)\n",
    "    res = add_image_bb_com(imagefile, depfile,res, if_add_bounding_box)\n",
    "    i = i+1\n",
    "write_ply('keys/res/final.ply', res)"
   ]
  },
  {
   "cell_type": "code",
   "execution_count": 13,
   "metadata": {
    "scrolled": false
   },
   "outputs": [
    {
     "name": "stdout",
     "output_type": "stream",
     "text": [
      "  \n",
      "{'label': '91_0', 'offset': array([0., 0.]), 'tall': array([ 0.00636148, -0.92984334]), 'top_coord': [(0.7123709326244821, 2.414569139480591), (0.24186201163873675, 2.414569139480591), (0.21625803709030156, 2.459004809487822), (0.21625803709030156, 2.7945040133876007), (0.6028914817840489, 2.9472837983122977), (0.6309180119576294, 2.893232150409277), (0.7123709326244821, 2.414569139480591)]}\n",
      "  \n",
      "{'label': '27_0', 'offset': array([ 0.03332756, -0.00437202]), 'tall': array([ 0.34012829, -0.71920332]), 'top_coord': [(-0.43648970333770865, 1.2166373632900835), (-0.19013007602977727, 1.2653615605288364), (-0.3086900420608715, 1.8641738876487608), (-0.5550496693688028, 1.815449690410008)]}\n",
      "  \n",
      "{'label': '27_0', 'offset': array([-0.00495281,  0.02464929]), 'tall': array([ 0.46618548, -1.10886909]), 'top_coord': [(0.9604043543286414, 3.1453742886476648), (1.3194921411952014, 1.6139761528970162), (-0.09202093324409752, 1.067347987489895), (-0.4300057365674586, 1.9316069374922962), (-0.6111309403271935, 2.70404980388861), (0.903592473101094, 3.2906476155386533), (0.9604043543286414, 3.1453742886476648)]}\n"
     ]
    }
   ],
   "source": [
    "with open(index_file, 'rb') as f:\n",
    "    index = pickle.load(f)\n",
    "for idx in index:\n",
    "    print(\"  \")\n",
    "    print(idx)"
   ]
  },
  {
   "cell_type": "code",
   "execution_count": 14,
   "metadata": {},
   "outputs": [
    {
     "data": {
      "text/plain": [
       "0"
      ]
     },
     "execution_count": 14,
     "metadata": {},
     "output_type": "execute_result"
    }
   ],
   "source": [
    "draw_boundbox()"
   ]
  },
  {
   "cell_type": "code",
   "execution_count": null,
   "metadata": {},
   "outputs": [],
   "source": []
  },
  {
   "cell_type": "code",
   "execution_count": null,
   "metadata": {},
   "outputs": [],
   "source": []
  },
  {
   "cell_type": "code",
   "execution_count": null,
   "metadata": {},
   "outputs": [],
   "source": []
  },
  {
   "cell_type": "code",
   "execution_count": 5,
   "metadata": {},
   "outputs": [],
   "source": [
    "def delete_module(modname, paranoid=None):\n",
    "    from sys import modules\n",
    "    try:\n",
    "        thismod = modules[modname]\n",
    "    except KeyError:\n",
    "        raise ValueError(modname)\n",
    "    these_symbols = dir(thismod)\n",
    "    if paranoid:\n",
    "        try:\n",
    "            paranoid[:]  # sequence support\n",
    "        except:\n",
    "            raise ValueError('must supply a finite list for paranoid')\n",
    "        else:\n",
    "            these_symbols = paranoid[:]\n",
    "    del modules[modname]\n",
    "    for mod in modules.values():\n",
    "        try:\n",
    "            delattr(mod, modname)\n",
    "        except AttributeError:\n",
    "            pass\n",
    "        if paranoid:\n",
    "            for symbol in these_symbols:\n",
    "                if symbol[:2] == '__':  # ignore special symbols\n",
    "                    continue\n",
    "                try:\n",
    "                    delattr(mod, symbol)\n",
    "                except AttributeError:\n",
    "                    pass"
   ]
  }
 ],
 "metadata": {
  "kernelspec": {
   "display_name": "python 3.5 tf gpu",
   "language": "python",
   "name": "tensorflow_gpu"
  },
  "language_info": {
   "codemirror_mode": {
    "name": "ipython",
    "version": 3
   },
   "file_extension": ".py",
   "mimetype": "text/x-python",
   "name": "python",
   "nbconvert_exporter": "python",
   "pygments_lexer": "ipython3",
   "version": "3.5.5"
  }
 },
 "nbformat": 4,
 "nbformat_minor": 2
}
