{
 "cells": [
  {
   "cell_type": "code",
   "execution_count": 72,
   "metadata": {},
   "outputs": [],
   "source": [
    "import urllib.request\n",
    "import glob\n",
    "import os"
   ]
  },
  {
   "cell_type": "code",
   "execution_count": 44,
   "metadata": {},
   "outputs": [],
   "source": [
    "page = urllib.request.urlopen(\"http://192.168.1.121:8888/back.py?PWM=40\")\n"
   ]
  },
  {
   "cell_type": "code",
   "execution_count": null,
   "metadata": {},
   "outputs": [],
   "source": []
  },
  {
   "cell_type": "code",
   "execution_count": 60,
   "metadata": {},
   "outputs": [],
   "source": [
    "PWM = 40\n",
    "MOV = \"fro\"\n",
    "TIME = 0.3\n",
    "\n",
    "command = str(PWM) +\",\" + str(MOV)+\",\" + str(TIME)\n",
    "ip = \"192.168.1.121\"\n",
    "\n",
    "page = urllib.request.urlopen(\"http://\"+ ip +\":8888/move.py?COMMAND=\" + command)\n",
    "\n"
   ]
  },
  {
   "cell_type": "code",
   "execution_count": null,
   "metadata": {},
   "outputs": [],
   "source": []
  },
  {
   "cell_type": "code",
   "execution_count": 65,
   "metadata": {},
   "outputs": [],
   "source": [
    "num = 5\n",
    "TIME = 0.3\n",
    "\n",
    "command = str(TIME) +\",\" + str(num)\n",
    "ip = \"192.168.1.121\"\n",
    "\n",
    "page = urllib.request.urlopen(\"http://\"+ ip +\":8888/camera.py?COMMAND=\" + command)"
   ]
  },
  {
   "cell_type": "code",
   "execution_count": null,
   "metadata": {},
   "outputs": [],
   "source": []
  },
  {
   "cell_type": "code",
   "execution_count": 69,
   "metadata": {},
   "outputs": [],
   "source": [
    "#reset\n",
    "images = glob.glob('keys/*.*p*')\n",
    "for file in images:\n",
    "    os.remove(file)    \n",
    "images = glob.glob('keys/Ms/*.*')\n",
    "for file in images:\n",
    "    os.remove(file)  \n",
    "images = glob.glob('keys/objs/*.*')\n",
    "for file in images:\n",
    "    os.remove(file)\n",
    "images = glob.glob('keys/res/*.*')\n",
    "for file in images:\n",
    "    os.remove(file)"
   ]
  },
  {
   "cell_type": "markdown",
   "metadata": {},
   "source": [
    "## Fresh new all in one"
   ]
  },
  {
   "cell_type": "code",
   "execution_count": null,
   "metadata": {},
   "outputs": [],
   "source": [
    "imagefile = \n",
    "depfile = 'keys/deps/'\n",
    "calu_dep_real_time(imagefile,depfile)"
   ]
  },
  {
   "cell_type": "code",
   "execution_count": 73,
   "metadata": {},
   "outputs": [],
   "source": [
    "def start_get_image_from_robot():\n",
    "    infile = 'http://192.168.1.121:8888/image/'\n",
    "    outfile = 'keys/new_image/'\n",
    "    os.system(\"wget --accept jpg --input-file \"+ infile + \" --output-file \" + outfile)"
   ]
  },
  {
   "cell_type": "code",
   "execution_count": 74,
   "metadata": {},
   "outputs": [],
   "source": [
    "start_get_image_from_robot()"
   ]
  },
  {
   "cell_type": "code",
   "execution_count": 41,
   "metadata": {},
   "outputs": [
    {
     "data": {
      "text/plain": [
       "0.5"
      ]
     },
     "execution_count": 41,
     "metadata": {},
     "output_type": "execute_result"
    }
   ],
   "source": [
    "images = glob.glob('F:/pfe/segmentation/images/Trysegvideo/Image_test/*.jpg')\n",
    "i = 1\n",
    "if_add_bounding_box = True\n",
    "\n",
    "res = None\n",
    "for imagefile in images:\n",
    "    depfile = 'keys/deps/'+str(i)+'.npy'\n",
    "    calu_dep(imagefile,depfile)\n",
    "    res = add_image_bb_com(imagefile, depfile,res, if_add_bounding_box)\n",
    "    i = i+1\n",
    "write_ply('keys/res/final.ply', res)"
   ]
  },
  {
   "cell_type": "code",
   "execution_count": 34,
   "metadata": {},
   "outputs": [],
   "source": [
    "import cgi\n",
    "form = cgi.FieldStorage()"
   ]
  },
  {
   "cell_type": "code",
   "execution_count": null,
   "metadata": {},
   "outputs": [],
   "source": []
  }
 ],
 "metadata": {
  "kernelspec": {
   "display_name": "python 3.5 tf gpu",
   "language": "python",
   "name": "tensorflow_gpu"
  },
  "language_info": {
   "codemirror_mode": {
    "name": "ipython",
    "version": 3
   },
   "file_extension": ".py",
   "mimetype": "text/x-python",
   "name": "python",
   "nbconvert_exporter": "python",
   "pygments_lexer": "ipython3",
   "version": "3.5.5"
  }
 },
 "nbformat": 4,
 "nbformat_minor": 2
}
