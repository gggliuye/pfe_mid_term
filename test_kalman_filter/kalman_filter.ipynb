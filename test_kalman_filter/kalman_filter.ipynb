{
 "cells": [
  {
   "cell_type": "code",
   "execution_count": 1,
   "metadata": {},
   "outputs": [],
   "source": [
    "import numpy as np\n",
    "import pylab as pl\n",
    "from pykalman import UnscentedKalmanFilter\n",
    "import cv2\n",
    "import matplotlib.pyplot as plt\n",
    "import matplotlib.animation as animation\n",
    "from pathlib import Path\n",
    "import os\n",
    "from utils_kalman import *"
   ]
  },
  {
   "cell_type": "code",
   "execution_count": null,
   "metadata": {},
   "outputs": [],
   "source": []
  },
  {
   "cell_type": "code",
   "execution_count": null,
   "metadata": {},
   "outputs": [],
   "source": []
  },
  {
   "cell_type": "code",
   "execution_count": null,
   "metadata": {},
   "outputs": [],
   "source": []
  },
  {
   "cell_type": "code",
   "execution_count": null,
   "metadata": {},
   "outputs": [],
   "source": []
  },
  {
   "cell_type": "markdown",
   "metadata": {},
   "source": [
    "# 6 25"
   ]
  },
  {
   "cell_type": "code",
   "execution_count": 18,
   "metadata": {},
   "outputs": [
    {
     "name": "stdout",
     "output_type": "stream",
     "text": [
      "3.720302975177765 -0.8958076232138648 21.049963248901896\n"
     ]
    }
   ],
   "source": [
    "video_file = 'test_6_25/video905.h264'\n",
    "ang1 = rotate_from_video(video_file)\n",
    "dis, ang2 = rotate_and_translation_from_video(video_file)\n",
    "print(ang1, ang2, dis)"
   ]
  },
  {
   "cell_type": "code",
   "execution_count": 26,
   "metadata": {},
   "outputs": [],
   "source": [
    "def points_from_dist_angle(dist, angle):\n",
    "    num = len(dist)\n",
    "    points = np.zeros((num+1,2))\n",
    "    ang = 0\n",
    "    for i in range(num):\n",
    "        ang = ang + angle[i]\n",
    "        points[i+1,0] = points[i,0] - dist[i]*np.sin(ang*np.pi/180)\n",
    "        points[i+1,1] = points[i,1] + dist[i]*np.cos(ang*np.pi/180)\n",
    "    return points"
   ]
  },
  {
   "cell_type": "code",
   "execution_count": 28,
   "metadata": {},
   "outputs": [
    {
     "data": {
      "image/png": "[encoded data removed]",
      "text/plain": [
       "<Figure size 432x288 with 1 Axes>"
      ]
     },
     "metadata": {},
     "output_type": "display_data"
    }
   ],
   "source": [
    "dist = []\n",
    "angle = []\n",
    "for i in range(0,6):\n",
    "    video_file = 'test_6_25/video80'+str(i)+'.h264'\n",
    "    dis = 0\n",
    "    if i == 2 or i == 3 :\n",
    "        ang = rotate_from_video(video_file)\n",
    "    else:\n",
    "        dis, ang = rotate_and_translation_from_video(video_file)\n",
    "    dist.append(dis)\n",
    "    angle.append(ang)\n",
    "points = points_from_dist_angle(dist, angle)\n",
    "pl.figure()\n",
    "pl.plot(points[:,0] ,points[:,1], color='b')\n",
    "pl.plot(points[:,0] ,points[:,1], 'r^')\n",
    "pl.xlim((-50, 50))\n",
    "pl.show()"
   ]
  },
  {
   "cell_type": "code",
   "execution_count": 19,
   "metadata": {},
   "outputs": [],
   "source": [
    "def get_matrix_from_video(videofile):\n",
    "    ang1 = rotate_from_video(video_file)\n",
    "    dis, ang2 = rotate_and_translation_from_video(video_file)\n",
    "    if ang2 < 20:\n",
    "        dis = 0\n",
    "        ang = ang1\n",
    "    else:\n",
    "        ang = ang2\n",
    "    r = np.array([ang,0,0])\n",
    "    t = np.array([0,dis*np.sin(ang*np.pi/180),dis*np.cos(ang*np.pi/180)])\n",
    "    return trans_matrix(r,t)"
   ]
  },
  {
   "cell_type": "markdown",
   "metadata": {},
   "source": [
    "# Kalman Filter"
   ]
  },
  {
   "cell_type": "markdown",
   "metadata": {},
   "source": [
    "## example"
   ]
  },
  {
   "cell_type": "code",
   "execution_count": 4,
   "metadata": {
    "scrolled": true
   },
   "outputs": [
    {
     "name": "stderr",
     "output_type": "stream",
     "text": [
      "E:\\program\\Anaconda3\\envs\\tensorflow_gpu\\lib\\site-packages\\pykalman-0.9.5-py3.5.egg\\pykalman\\unscented.py:867: RuntimeWarning: covariance is not positive-semidefinite.\n",
      "  observation_covariance.newbyteorder('=')\n"
     ]
    }
   ],
   "source": [
    "def transition_function(state, noise):\n",
    "    a = state[0] * np.sin(state[1]) + noise[0]\n",
    "    b = state[1] + noise[1]\n",
    "    return np.array([a, b])\n",
    "\n",
    "def observation_function(state, noise):\n",
    "    C = np.array([[-1, 0.5], [0.2, 0.1]])\n",
    "    return np.dot(C, state) + noise\n",
    "\n",
    "def additive_transition_function(state):\n",
    "    return transition_function(state, np.array([0, 0]))\n",
    "\n",
    "def additive_observation_function(state):\n",
    "    return observation_function(state, np.array([0, 0]))\n",
    "\n",
    "transition_covariance = np.eye(2)\n",
    "random_state = np.random.RandomState(0)\n",
    "observation_covariance = np.eye(2) + random_state.randn(2, 2) * 0.1\n",
    "initial_state_mean = [0, 0]\n",
    "initial_state_covariance = [[1, 0.1], [ 0.1, 1]]\n",
    "\n",
    "# sample from model\n",
    "ukf = UnscentedKalmanFilter(\n",
    "    transition_function, observation_function,\n",
    "    transition_covariance, observation_covariance,\n",
    "    initial_state_mean, initial_state_covariance,\n",
    "    random_state=random_state\n",
    ")\n",
    "\n",
    "states, observations = ukf.sample(50, initial_state_mean)\n",
    "\n",
    "# estimate state with filtering\n",
    "ukf_state = ukf.filter(observations)\n",
    "ukf_state_estimates = ukf_state[0]"
   ]
  },
  {
   "cell_type": "code",
   "execution_count": 9,
   "metadata": {},
   "outputs": [
    {
     "data": {
      "text/plain": [
       "array([[0.59065144, 0.24532614],\n",
       "       [0.24532614, 0.91606503]])"
      ]
     },
     "execution_count": 9,
     "metadata": {},
     "output_type": "execute_result"
    }
   ],
   "source": [
    "ukf_state[1][0]"
   ]
  },
  {
   "cell_type": "code",
   "execution_count": null,
   "metadata": {},
   "outputs": [],
   "source": []
  },
  {
   "cell_type": "code",
   "execution_count": null,
   "metadata": {},
   "outputs": [],
   "source": []
  },
  {
   "cell_type": "code",
   "execution_count": 5,
   "metadata": {
    "scrolled": true
   },
   "outputs": [
    {
     "data": {
      "image/png": "[encoded data removed]",
      "text/plain": [
       "<Figure size 432x288 with 1 Axes>"
      ]
     },
     "metadata": {},
     "output_type": "display_data"
    }
   ],
   "source": [
    "# draw estimates\n",
    "pl.figure()\n",
    "lines_true = pl.plot(states, color='b')\n",
    "lines_ukf = pl.plot(ukf_state_estimates, color='r', ls='-')\n",
    "pl.legend((lines_true[0], lines_ukf[0]),\n",
    "          ('true', 'UKF'),\n",
    "          loc='upper left'\n",
    ")\n",
    "pl.show()"
   ]
  },
  {
   "cell_type": "markdown",
   "metadata": {},
   "source": [
    "### state\n",
    "the state is { x , y , theta, vx, vy, vtheta, {xi, yi}(for n feature points) }.\n",
    "\n",
    "the observation is {distance, angle} of the featrue points from the robot point of view.\n",
    "\n",
    "so the state is a (6+2n) array."
   ]
  },
  {
   "cell_type": "code",
   "execution_count": 2,
   "metadata": {
    "scrolled": false
   },
   "outputs": [
    {
     "name": "stdout",
     "output_type": "stream",
     "text": [
      "feature points shape from optical flow is  (19, 5, 1, 2)\n",
      "new points is  (19, 5, 1, 2)\n",
      "[[630.65693431   0.         240.        ]\n",
      " [  0.         627.79291553 320.        ]\n",
      " [  0.           0.           1.        ]]\n",
      "initilization shape is  (16,)\n",
      "observation shape is  (18, 5)\n"
     ]
    }
   ],
   "source": [
    "video_file = '4/video4.h264'\n",
    "dep = np.load('4/dep4.npy')\n",
    "dep0 = cv2.resize(dep[0,:,:,0], (video_width ,video_height))\n",
    "filtered_state_estimates, smoothed_state_estimates = kalman_filter(video_file, dep0, 0.33)"
   ]
  },
  {
   "cell_type": "code",
   "execution_count": null,
   "metadata": {},
   "outputs": [],
   "source": []
  },
  {
   "cell_type": "code",
   "execution_count": 4,
   "metadata": {},
   "outputs": [
    {
     "data": {
      "image/png": "[encoded data removed]",
      "text/plain": [
       "<Figure size 432x288 with 1 Axes>"
      ]
     },
     "metadata": {},
     "output_type": "display_data"
    }
   ],
   "source": [
    "# draw estimates\n",
    "pl.figure()\n",
    "lines_true = pl.plot(filtered_state_estimates[:,0] , color='b')\n",
    "lines_ukf = pl.plot(smoothed_state_estimates[:,0], color='r', ls='-')\n",
    "pl.legend((lines_true[0], lines_ukf[0]),\n",
    "          ('filter', 'smooth'),\n",
    "          loc='upper left'\n",
    ")\n",
    "pl.show()"
   ]
  },
  {
   "cell_type": "code",
   "execution_count": 46,
   "metadata": {},
   "outputs": [
    {
     "data": {
      "text/plain": [
       "array([[342.,  98.],\n",
       "       [242., 126.],\n",
       "       [237., 118.],\n",
       "       [595., 457.],\n",
       "       [173., 241.]], dtype=float32)"
      ]
     },
     "execution_count": 46,
     "metadata": {},
     "output_type": "execute_result"
    }
   ],
   "source": [
    "init = points[0].reshape(-1,2)\n",
    "init"
   ]
  },
  {
   "cell_type": "code",
   "execution_count": 65,
   "metadata": {
    "scrolled": true
   },
   "outputs": [
    {
     "name": "stdout",
     "output_type": "stream",
     "text": [
      "feature points shape from optical flow is  (19, 5, 1, 2)\n",
      "new points is  (19, 5, 1, 2)\n",
      "[[630.65693431   0.         240.        ]\n",
      " [  0.         627.79291553 320.        ]\n",
      " [  0.           0.           1.        ]]\n"
     ]
    }
   ],
   "source": [
    "points, init_image = get_feature_points_from_video(video_file)\n",
    "i, o = feature_points_to_observation_and_initilization(points, 0, dep0)"
   ]
  },
  {
   "cell_type": "code",
   "execution_count": 41,
   "metadata": {},
   "outputs": [
    {
     "name": "stdout",
     "output_type": "stream",
     "text": [
      "initilization shape is  (16,)\n",
      "observation shape is  (5, 5)\n"
     ]
    }
   ],
   "source": [
    "\n",
    "observations = np.asarray(o[0:5])\n",
    "n = observations.shape[1]\n",
    "print('initilization shape is ', i.shape)\n",
    "print('observation shape is ', observations.shape)\n",
    "# initialize the vovariance and mean\n",
    "transition_covariance = np.eye(2*n+6)\n",
    "random_state = np.random.RandomState(0)\n",
    "observation_covariance = np.eye(n) + abs(random_state.randn(n, n) * 0.5)\n",
    "\n",
    "initial_state_mean = i\n",
    "covariance_init = random_state.randn(2*n+6, 2*n+6) * 0.1\n",
    "covariance_init[0:6,0:6] = 0.005\n",
    "initial_state_covariance =  np.eye(2*n+6) + abs(covariance_init)\n",
    "# set Unscented kalman filter\n",
    "kf = UnscentedKalmanFilter(\n",
    "        transition_function, observation_function,\n",
    "        transition_covariance, observation_covariance,\n",
    "        initial_state_mean, initial_state_covariance,\n",
    "        random_state=random_state\n",
    "        )\n",
    "filtered_state_estimates = kf.filter(observations)"
   ]
  },
  {
   "cell_type": "code",
   "execution_count": 43,
   "metadata": {},
   "outputs": [
    {
     "data": {
      "text/plain": [
       "(5, 16, 16)"
      ]
     },
     "execution_count": 43,
     "metadata": {},
     "output_type": "execute_result"
    }
   ],
   "source": [
    "filtered_state_estimates[1].shape"
   ]
  },
  {
   "cell_type": "code",
   "execution_count": 44,
   "metadata": {},
   "outputs": [],
   "source": [
    "observations = np.asarray(o[5:-1])\n",
    "kf = UnscentedKalmanFilter(\n",
    "        transition_function, observation_function,\n",
    "        transition_covariance, observation_covariance,\n",
    "        filtered_state_estimates[0][-1], filtered_state_estimates[1][-1],\n",
    "        random_state=random_state\n",
    "        )\n",
    "filtered_state_estimates = kf.filter(observations)"
   ]
  },
  {
   "cell_type": "code",
   "execution_count": 30,
   "metadata": {},
   "outputs": [
    {
     "data": {
      "text/plain": [
       "array([ 0.06198548, -0.09858284, -0.10740364,  0.38500542, -0.11771525])"
      ]
     },
     "execution_count": 30,
     "metadata": {},
     "output_type": "execute_result"
    }
   ],
   "source": [
    "o[0:5]"
   ]
  },
  {
   "cell_type": "code",
   "execution_count": 29,
   "metadata": {},
   "outputs": [
    {
     "data": {
      "text/plain": [
       "(16, 16)"
      ]
     },
     "execution_count": 29,
     "metadata": {},
     "output_type": "execute_result"
    }
   ],
   "source": [
    "filtered_state_estimates[1][-1].shape"
   ]
  },
  {
   "cell_type": "code",
   "execution_count": 66,
   "metadata": {},
   "outputs": [],
   "source": [
    "o = np.asarray(o)"
   ]
  },
  {
   "cell_type": "code",
   "execution_count": 57,
   "metadata": {},
   "outputs": [],
   "source": [
    "x = np.array([0,1,2,3,4,5,6,7,8,9,10,11,12,13,14,15,16,17])"
   ]
  },
  {
   "cell_type": "code",
   "execution_count": 70,
   "metadata": {
    "scrolled": false
   },
   "outputs": [
    {
     "data": {
      "text/plain": [
       "[<matplotlib.lines.Line2D at 0x18f0f12bfd0>,\n",
       " <matplotlib.lines.Line2D at 0x18f0f12d160>,\n",
       " <matplotlib.lines.Line2D at 0x18f0f12d9b0>,\n",
       " <matplotlib.lines.Line2D at 0x18f0f12de10>,\n",
       " <matplotlib.lines.Line2D at 0x18f0f1372b0>]"
      ]
     },
     "execution_count": 70,
     "metadata": {},
     "output_type": "execute_result"
    },
    {
     "data": {
      "image/png": "[encoded data removed]",
      "text/plain": [
       "<Figure size 432x288 with 1 Axes>"
      ]
     },
     "metadata": {},
     "output_type": "display_data"
    }
   ],
   "source": [
    "plt.plot(x, o[:,0],'ro',x,o[:,1],'bo',x,o[:,2],'go',x,o[:,3],'yo',x,o[:,4],'g^')"
   ]
  },
  {
   "cell_type": "code",
   "execution_count": 46,
   "metadata": {},
   "outputs": [
    {
     "data": {
      "text/plain": [
       "[<matplotlib.lines.Line2D at 0x21081234ef0>]"
      ]
     },
     "execution_count": 46,
     "metadata": {},
     "output_type": "execute_result"
    },
    {
     "data": {
      "image/png": "[encoded data removed]",
      "text/plain": [
       "<Figure size 432x288 with 1 Axes>"
      ]
     },
     "metadata": {},
     "output_type": "display_data"
    }
   ],
   "source": [
    "dx = filtered_state_estimates[:,10] - filtered_state_estimates[:,0]\n",
    "dy = filtered_state_estimates[:,11] - filtered_state_estimates[:,1]\n",
    "theta = np.arctan2(dx,dy)\n",
    "plt.plot(x,theta , 'ro' )"
   ]
  },
  {
   "cell_type": "code",
   "execution_count": null,
   "metadata": {},
   "outputs": [],
   "source": [
    "sift = cv2.xfeatures2d.SIFT_create(50)\n",
    "old_frame = cv2.imread('keys/segs/76ii.jpg')\n",
    "#old_frame = scipy.ndimage.filters.gaussian_filter(old_frame, 20, order=0, output=None, mode='reflect', cval=0.0, truncate=4.0)\n",
    "old_gray = cv2.cvtColor(old_frame, cv2.COLOR_BGR2GRAY)\n",
    "old_gray = skimage.morphology.closing(old_gray,skimage.morphology.square(5))\n",
    "kp1, des1 = sift.detectAndCompute(old_gray,None)\n",
    "p0 = []\n",
    "for i in range(len(kp1)):\n",
    "    p0.append(kp1[i].pt)\n",
    "p0 = np.reshape(np.ravel(p0),(-1,1,2))\n",
    "p0 = p0.astype(np.float32)\n",
    "mask = np.zeros_like(old_frame)\n"
   ]
  },
  {
   "cell_type": "code",
   "execution_count": 9,
   "metadata": {},
   "outputs": [
    {
     "data": {
      "text/plain": [
       "True"
      ]
     },
     "execution_count": 9,
     "metadata": {},
     "output_type": "execute_result"
    }
   ],
   "source": [
    "np.isnan(np.nan)"
   ]
  },
  {
   "cell_type": "code",
   "execution_count": 63,
   "metadata": {},
   "outputs": [
    {
     "ename": "IndexError",
     "evalue": "index 100 is out of bounds for axis 0 with size 100",
     "output_type": "error",
     "traceback": [
      "\u001b[1;31m---------------------------------------------------------------------------\u001b[0m",
      "\u001b[1;31mIndexError\u001b[0m                                Traceback (most recent call last)",
      "\u001b[1;32m<ipython-input-63-37bc52ec29a8>\u001b[0m in \u001b[0;36m<module>\u001b[1;34m()\u001b[0m\n\u001b[0;32m     35\u001b[0m         \u001b[0ma\u001b[0m\u001b[1;33m,\u001b[0m\u001b[0mb\u001b[0m \u001b[1;33m=\u001b[0m \u001b[0mnew\u001b[0m\u001b[1;33m.\u001b[0m\u001b[0mravel\u001b[0m\u001b[1;33m(\u001b[0m\u001b[1;33m)\u001b[0m\u001b[1;33m\u001b[0m\u001b[0m\n\u001b[0;32m     36\u001b[0m         \u001b[0mc\u001b[0m\u001b[1;33m,\u001b[0m\u001b[0md\u001b[0m \u001b[1;33m=\u001b[0m \u001b[0mold\u001b[0m\u001b[1;33m.\u001b[0m\u001b[0mravel\u001b[0m\u001b[1;33m(\u001b[0m\u001b[1;33m)\u001b[0m\u001b[1;33m\u001b[0m\u001b[0m\n\u001b[1;32m---> 37\u001b[1;33m         \u001b[0mmask\u001b[0m \u001b[1;33m=\u001b[0m \u001b[0mcv2\u001b[0m\u001b[1;33m.\u001b[0m\u001b[0mline\u001b[0m\u001b[1;33m(\u001b[0m\u001b[0mmask\u001b[0m\u001b[1;33m,\u001b[0m \u001b[1;33m(\u001b[0m\u001b[0ma\u001b[0m\u001b[1;33m,\u001b[0m\u001b[0mb\u001b[0m\u001b[1;33m)\u001b[0m\u001b[1;33m,\u001b[0m\u001b[1;33m(\u001b[0m\u001b[0mc\u001b[0m\u001b[1;33m,\u001b[0m\u001b[0md\u001b[0m\u001b[1;33m)\u001b[0m\u001b[1;33m,\u001b[0m \u001b[0mcolor\u001b[0m\u001b[1;33m[\u001b[0m\u001b[0mi\u001b[0m\u001b[1;33m]\u001b[0m\u001b[1;33m.\u001b[0m\u001b[0mtolist\u001b[0m\u001b[1;33m(\u001b[0m\u001b[1;33m)\u001b[0m\u001b[1;33m,\u001b[0m \u001b[1;36m2\u001b[0m\u001b[1;33m)\u001b[0m\u001b[1;33m\u001b[0m\u001b[0m\n\u001b[0m\u001b[0;32m     38\u001b[0m         \u001b[0mframe\u001b[0m \u001b[1;33m=\u001b[0m \u001b[0mcv2\u001b[0m\u001b[1;33m.\u001b[0m\u001b[0mcircle\u001b[0m\u001b[1;33m(\u001b[0m\u001b[0mframe\u001b[0m\u001b[1;33m,\u001b[0m\u001b[1;33m(\u001b[0m\u001b[0ma\u001b[0m\u001b[1;33m,\u001b[0m\u001b[0mb\u001b[0m\u001b[1;33m)\u001b[0m\u001b[1;33m,\u001b[0m\u001b[1;36m5\u001b[0m\u001b[1;33m,\u001b[0m\u001b[0mcolor\u001b[0m\u001b[1;33m[\u001b[0m\u001b[0mi\u001b[0m\u001b[1;33m]\u001b[0m\u001b[1;33m.\u001b[0m\u001b[0mtolist\u001b[0m\u001b[1;33m(\u001b[0m\u001b[1;33m)\u001b[0m\u001b[1;33m,\u001b[0m\u001b[1;33m-\u001b[0m\u001b[1;36m1\u001b[0m\u001b[1;33m)\u001b[0m\u001b[1;33m\u001b[0m\u001b[0m\n\u001b[0;32m     39\u001b[0m     \u001b[0mimg\u001b[0m \u001b[1;33m=\u001b[0m \u001b[0mcv2\u001b[0m\u001b[1;33m.\u001b[0m\u001b[0madd\u001b[0m\u001b[1;33m(\u001b[0m\u001b[0mframe\u001b[0m\u001b[1;33m,\u001b[0m\u001b[0mmask\u001b[0m\u001b[1;33m)\u001b[0m\u001b[1;33m\u001b[0m\u001b[0m\n",
      "\u001b[1;31mIndexError\u001b[0m: index 100 is out of bounds for axis 0 with size 100"
     ]
    }
   ],
   "source": [
    "cap = cv2.VideoCapture('video1.h264')\n",
    "# params for ShiTomasi corner detection\n",
    "sift = cv2.xfeatures2d.SIFT_create()\n",
    "# Parameters for lucas kanade optical flow\n",
    "lk_params = dict( winSize  = (15,15),\n",
    "                  maxLevel = 2,\n",
    "                  criteria = (cv2.TERM_CRITERIA_EPS | cv2.TERM_CRITERIA_COUNT, 10, 0.03))\n",
    "# Create some random colors\n",
    "color = np.random.randint(0,255,(100,3))\n",
    "# Take first frame and find corners in it\n",
    "ret, old_frame = cap.read()\n",
    "old_gray = cv2.cvtColor(old_frame, cv2.COLOR_BGR2GRAY)\n",
    "kp1, des1 = sift.detectAndCompute(old_gray,None)\n",
    "p0 = []\n",
    "for i in range(len(kp1)):\n",
    "    p0.append(kp1[i].pt)\n",
    "p0 = np.reshape(np.ravel(p0),(-1,1,2))\n",
    "p0 = p0.astype(np.float32)\n",
    "# Create a mask image for drawing purposes\n",
    "mask = np.zeros_like(old_frame)\n",
    "while(1):\n",
    "    ret,frame = cap.read()\n",
    "    if ret == False:\n",
    "        break\n",
    "    frame_gray = cv2.cvtColor(frame, cv2.COLOR_BGR2GRAY)\n",
    "    # calculate optical flow\n",
    "    p1, st, err = cv2.calcOpticalFlowPyrLK(old_gray, frame_gray, p0, None, **lk_params)\n",
    "    # Select good points\n",
    "    if p1 is None:\n",
    "        break\n",
    "    good_new = p1[st==1]\n",
    "    good_old = p0[st==1]\n",
    "    # draw the tracks\n",
    "    for i,(new,old) in enumerate(zip(good_new,good_old)):\n",
    "        a,b = new.ravel()\n",
    "        c,d = old.ravel()\n",
    "        mask = cv2.line(mask, (a,b),(c,d), color[i].tolist(), 2)\n",
    "        frame = cv2.circle(frame,(a,b),5,color[i].tolist(),-1)\n",
    "    img = cv2.add(frame,mask)\n",
    "    cv2.imshow('frame',img)\n",
    "    k = cv2.waitKey(30) & 0xff\n",
    "    if k == 27:\n",
    "        break\n",
    "    # Now update the previous frame and previous points\n",
    "    old_gray = frame_gray.copy()\n",
    "    p0 = good_new.reshape(-1,1,2)\n",
    "cv2.destroyAllWindows()\n",
    "cap.release()"
   ]
  },
  {
   "cell_type": "code",
   "execution_count": 4,
   "metadata": {},
   "outputs": [],
   "source": [
    "cap = cv2.VideoCapture('keys/videos/video804.h264')\n",
    "# params for ShiTomasi corner detection\n",
    "feature_params = dict( maxCorners = 100,\n",
    "                       qualityLevel = 0.05,\n",
    "                       minDistance = 7,\n",
    "                       blockSize = 7 )\n",
    "# Parameters for lucas kanade optical flow\n",
    "lk_params = dict( winSize  = (15,15),\n",
    "                  maxLevel = 2,\n",
    "                  criteria = (cv2.TERM_CRITERIA_EPS | cv2.TERM_CRITERIA_COUNT, 10, 0.03))\n",
    "# Create some random colors\n",
    "color = np.random.randint(0,255,(100,3))\n",
    "# Take first frame and find corners in it\n",
    "ret, old_frame = cap.read()\n",
    "old_gray = cv2.cvtColor(old_frame, cv2.COLOR_BGR2GRAY)\n",
    "p0 = cv2.goodFeaturesToTrack(old_gray, mask = None, **feature_params)\n",
    "# Create a mask image for drawing purposes\n",
    "mask = np.zeros_like(old_frame)\n",
    "\n",
    "while(1):\n",
    "    ret,frame = cap.read()\n",
    "    if ret == False:\n",
    "        break\n",
    "    frame_gray = cv2.cvtColor(frame, cv2.COLOR_BGR2GRAY)\n",
    "    # calculate optical flow\n",
    "    p1, st, err = cv2.calcOpticalFlowPyrLK(old_gray, frame_gray, p0, None, **lk_params)\n",
    "    if p1 is None:\n",
    "        break\n",
    "    # Select good points\n",
    "    good_new = p1[st==1]\n",
    "    good_old = p0[st==1]\n",
    "    # draw the tracks\n",
    "    for i,(new,old) in enumerate(zip(good_new,good_old)):\n",
    "        a,b = new.ravel()\n",
    "        c,d = old.ravel()\n",
    "        mask = cv2.line(mask, (a,b),(c,d), color[i].tolist(), 2)\n",
    "        frame = cv2.circle(frame,(a,b),5,color[i].tolist(),-1)\n",
    "    img = cv2.add(frame,mask)\n",
    "    cv2.imshow('frame',img)\n",
    "    k = cv2.waitKey(100) & 0xff\n",
    "    if k == 27:\n",
    "        break\n",
    "    # Now update the previous frame and previous points\n",
    "    old_gray = frame_gray.copy()\n",
    "    p0 = good_new.reshape(-1,1,2)\n",
    "cv2.destroyAllWindows()\n",
    "cap.release()"
   ]
  },
  {
   "cell_type": "code",
   "execution_count": 13,
   "metadata": {
    "scrolled": true
   },
   "outputs": [
    {
     "name": "stdout",
     "output_type": "stream",
     "text": [
      "35.0212166560912 -4.277379944991125\n"
     ]
    }
   ],
   "source": [
    "video_file = '5/video6.h264'\n",
    "r, angle = rotate_and_translation_from_video(video_file)\n",
    "print(r, angle)"
   ]
  },
  {
   "cell_type": "code",
   "execution_count": 12,
   "metadata": {},
   "outputs": [
    {
     "name": "stdout",
     "output_type": "stream",
     "text": [
      "[26.215218   6.1802573  6.052357   9.978608  11.719773  -1.1022519\n",
      " 11.135259   9.004427   2.9519804  8.052623  17.047836   6.8484826\n",
      " -1.9448535  3.6034677 10.392591   9.088927   4.4060216  6.965023 ]\n"
     ]
    }
   ],
   "source": [
    "video_file = '5/video6.h264'\n",
    "dis = rotate_from_video(video_file)\n",
    "print(dis)"
   ]
  },
  {
   "cell_type": "code",
   "execution_count": 42,
   "metadata": {},
   "outputs": [
    {
     "data": {
      "text/plain": [
       "array([ 14.562871  ,   6.587079  ,  -2.2408583 ,   0.44688687,\n",
       "        13.97021   ,   7.6374655 ,  -0.0252327 ,  -0.91142845,\n",
       "       -13.2944765 ,   0.67467594,   6.3951964 ,  -2.2431977 ,\n",
       "         7.100998  ,  12.622195  ,   6.2585025 ,   3.1439335 ,\n",
       "        22.093777  ,   4.847871  ], dtype=float32)"
      ]
     },
     "execution_count": 42,
     "metadata": {},
     "output_type": "execute_result"
    }
   ],
   "source": [
    "dis"
   ]
  },
  {
   "cell_type": "markdown",
   "metadata": {},
   "source": [
    "### animation images"
   ]
  },
  {
   "cell_type": "code",
   "execution_count": 8,
   "metadata": {},
   "outputs": [],
   "source": [
    "def from_KF_result_to_points(estimate):\n",
    "    num = int((len(estimate) - 6)/2)\n",
    "    x = np.zeros(num)\n",
    "    y = np.zeros(num)\n",
    "    for i in range(num):\n",
    "        x[i] = estimate[6+2*i]\n",
    "        y[i] = estimate[6+2*i+1]\n",
    "    return x,y"
   ]
  },
  {
   "cell_type": "code",
   "execution_count": 13,
   "metadata": {},
   "outputs": [
    {
     "data": {
      "image/png": "[encoded data removed]",
      "text/plain": [
       "<Figure size 432x288 with 1 Axes>"
      ]
     },
     "metadata": {},
     "output_type": "display_data"
    }
   ],
   "source": [
    "num_obs = filtered_state_estimates.shape[0]\n",
    "ims = []\n",
    "fig = plt.figure()\n",
    "for i in range(num_obs):\n",
    "    x1,y1 = from_KF_result_to_points(filtered_state_estimates[i])\n",
    "    im = plt.plot( x1,y1, 'go',\n",
    "        smoothed_state_estimates[0:i+1,0],-smoothed_state_estimates[0:i+1,1], 'r^',\n",
    "        smoothed_state_estimates[0:i+1,0],-smoothed_state_estimates[0:i+1,1], 'b')\n",
    "    ims.append(im)\n",
    "    \n",
    "ani = animation.ArtistAnimation(fig, ims, interval=500, blit=True,\n",
    "                                repeat_delay=1000)\n",
    "\n",
    "ani.save('dynamic_images.mp4')\n",
    "plt.show()"
   ]
  },
  {
   "cell_type": "code",
   "execution_count": 43,
   "metadata": {},
   "outputs": [],
   "source": [
    "def make_animation( smoothed_state_estimates1, smoothed_state_estimates2):\n",
    "    ims = []\n",
    "    num_obs1 = smoothed_state_estimates1.shape[0]\n",
    "    for i in range(num_obs1):\n",
    "        x1,y1 = from_KF_result_to_points(smoothed_state_estimates1[i])\n",
    "        im = plt.plot( x1,y1, 'go',\n",
    "            smoothed_state_estimates1[0:i+1,0],-smoothed_state_estimates1[0:i+1,1]/4, 'r^',\n",
    "            smoothed_state_estimates1[0:i+1,0],-smoothed_state_estimates1[0:i+1,1]/4, 'b')\n",
    "        ims.append(im)\n",
    "    ori = [smoothed_state_estimates1[num_obs1-1,0],-smoothed_state_estimates1[num_obs1-1,1]/4]\n",
    "    \n",
    "    num_obs2 = smoothed_state_estimates2.shape[0]\n",
    "    for i in range(num_obs2):\n",
    "        x0,y0 = from_KF_result_to_points(smoothed_state_estimates1[num_obs1-1])\n",
    "        x1,y1 = from_KF_result_to_points(smoothed_state_estimates2[i])\n",
    "        im = plt.plot( x1+ori[0],y1+ori[1], 'bo',x0,y0, 'go',\n",
    "            smoothed_state_estimates2[0:i+1,0]+ori[0],-smoothed_state_estimates2[0:i+1,1]/4+ori[1], 'y^',\n",
    "            smoothed_state_estimates2[0:i+1,0]+ori[0],-smoothed_state_estimates2[0:i+1,1]/4+ori[1], 'b',\n",
    "            smoothed_state_estimates1[0:num_obs1,0],-smoothed_state_estimates1[0:num_obs1,1]/4, 'r^',\n",
    "            smoothed_state_estimates1[0:num_obs1,0],-smoothed_state_estimates1[0:num_obs1,1]/4, 'b')\n",
    "        ims.append(im)\n",
    "    \n",
    "    return ims"
   ]
  },
  {
   "cell_type": "code",
   "execution_count": 44,
   "metadata": {},
   "outputs": [
    {
     "data": {
      "image/png": "[encoded data removed]",
      "text/plain": [
       "<Figure size 432x288 with 1 Axes>"
      ]
     },
     "metadata": {},
     "output_type": "display_data"
    }
   ],
   "source": [
    "fig = plt.figure()\n",
    "smoothed_state_estimates1 = np.load('4/smoothed_state_estimates3.npy')\n",
    "smoothed_state_estimates2 = np.load('4/smoothed_state_estimates4.npy')\n",
    "ims = make_animation( smoothed_state_estimates1, smoothed_state_estimates2)\n",
    "ani = animation.ArtistAnimation(fig, ims, interval=500, blit=True,\n",
    "                                repeat_delay=1000)\n",
    "\n",
    "ani.save('dynamic_images.mp4')\n",
    "plt.show()"
   ]
  },
  {
   "cell_type": "code",
   "execution_count": 42,
   "metadata": {},
   "outputs": [
    {
     "data": {
      "image/png": "[encoded data removed]",
      "text/plain": [
       "<Figure size 432x288 with 1 Axes>"
      ]
     },
     "metadata": {},
     "output_type": "display_data"
    }
   ],
   "source": [
    "plt.plot(filtered_state_estimates[:,0], filtered_state_estimates[:,1], 'ro')\n",
    "#plt.plot(from_KF_result_to_points(filtered_state_estimates[17]), 'go')\n",
    "x1,y1 = from_KF_result_to_points(filtered_state_estimates[0])\n",
    "plt.plot(x1,y1, 'yo')\n",
    "#plt.axis([-5, 5, -5, 5])\n",
    "plt.show()"
   ]
  },
  {
   "cell_type": "code",
   "execution_count": null,
   "metadata": {},
   "outputs": [],
   "source": [
    "import numpy as np\n",
    "import matplotlib.pyplot as plt\n",
    "import matplotlib.animation as animation\n",
    "\n",
    "fig = plt.figure()\n",
    "\n",
    "def f(x, y):\n",
    "    return np.sin(x) + np.cos(y)\n",
    "\n",
    "x = np.linspace(0, 2 * np.pi, 120)\n",
    "y = np.linspace(0, 2 * np.pi, 100).reshape(-1, 1)\n",
    "# ims is a list of lists, each row is a list of artists to draw in the\n",
    "# current frame; here we are just animating one artist, the image, in\n",
    "# each frame\n",
    "ims = []\n",
    "for i in range(60):\n",
    "    x += np.pi / 15.\n",
    "    y += np.pi / 20.\n",
    "    im = plt.imshow(f(x, y), animated=True)\n",
    "    ims.append([im])\n",
    "\n",
    "ani = animation.ArtistAnimation(fig, ims, interval=50, blit=True,\n",
    "                                repeat_delay=1000)\n",
    "\n",
    "#ani.save('dynamic_images.mp4')\n",
    "\n",
    "plt.show()"
   ]
  },
  {
   "cell_type": "code",
   "execution_count": 16,
   "metadata": {},
   "outputs": [
    {
     "data": {
      "image/png": "[encoded data removed]",
      "text/plain": [
       "<Figure size 432x288 with 1 Axes>"
      ]
     },
     "metadata": {},
     "output_type": "display_data"
    }
   ],
   "source": [
    "import numpy as np\n",
    "import matplotlib.pyplot as plt\n",
    "import matplotlib.animation as animation\n",
    "\n",
    "fig = plt.figure()\n",
    "\n",
    "\n",
    "def f(x, y):\n",
    "    return np.sin(x) + np.cos(y)\n",
    "\n",
    "x = np.linspace(0, 2 * np.pi, 120)\n",
    "y = np.linspace(0, 2 * np.pi, 100).reshape(-1, 1)\n",
    "# ims is a list of lists, each row is a list of artists to draw in the\n",
    "# current frame; here we are just animating one artist, the image, in\n",
    "# each frame\n",
    "ims = []\n",
    "for i in range(60):\n",
    "    x += np.pi / 15.\n",
    "    y += np.pi / 20.\n",
    "    im = plt.imshow(f(x, y), animated=True)\n",
    "    ims.append([im])\n",
    "\n",
    "ani = animation.ArtistAnimation(fig, ims, interval=50, blit=True,\n",
    "                                repeat_delay=1000)\n",
    "\n",
    "#ani.save('dynamic_images.mp4')\n",
    "\n",
    "plt.show()"
   ]
  },
  {
   "cell_type": "code",
   "execution_count": 151,
   "metadata": {},
   "outputs": [],
   "source": [
    "def trans_matrix(r,t):\n",
    "    # T (ki to t), rotate and transport matrix\n",
    "    r = r.ravel()\n",
    "    t = t.ravel()\n",
    "    (a,b,c) = (r[0], r[1], r[2])\n",
    "    (x,y,z) = (t[0], t[1], t[2])\n",
    "    Rz = np.matrix([[1,0,0],\n",
    "          [0, np.cos(a), -np.sin(a)],\n",
    "         [0, np.sin(a), np.cos(a)]])\n",
    "    Ry = np.matrix([[np.cos(b), 0 , np.sin(b)],\n",
    "          [0 , 1, 0],\n",
    "          [-np.sin(b), 0 , np.cos(b)]])\n",
    "    Rx = np.matrix([[np.cos(c), -np.sin(c), 0],\n",
    "         [np.sin(c), np.cos(c), 0],\n",
    "         [0,0,1]])\n",
    "    R = np.dot(Rz,np.dot(Ry,Rx))\n",
    "    T = np.concatenate((R, np.matrix([[x],[y],[z]])), axis=1)\n",
    "\n",
    "    return T"
   ]
  },
  {
   "cell_type": "code",
   "execution_count": 153,
   "metadata": {},
   "outputs": [
    {
     "data": {
      "text/plain": [
       "matrix([[  1.        ,   0.        ,   0.        ,   0.        ],\n",
       "        [  0.        ,   0.98528125,   0.17094107,   0.42480124],\n",
       "        [  0.        ,  -0.17094107,   0.98528125, -23.90627193]])"
      ]
     },
     "execution_count": 153,
     "metadata": {},
     "output_type": "execute_result"
    }
   ],
   "source": [
    "state = smoothed_state_estimates[-1,0:3]\n",
    "t = np.array([0,state[0], state[1]])\n",
    "r = np.array([state[2],0,0])\n",
    "trans_matrix(r,t)"
   ]
  },
  {
   "cell_type": "code",
   "execution_count": null,
   "metadata": {},
   "outputs": [],
   "source": [
    "trans_matrix(r,t)"
   ]
  },
  {
   "cell_type": "markdown",
   "metadata": {},
   "source": [
    "## use optical flow as observation"
   ]
  },
  {
   "cell_type": "code",
   "execution_count": 27,
   "metadata": {},
   "outputs": [
    {
     "data": {
      "text/plain": [
       "<matplotlib.image.AxesImage at 0x20677ce17f0>"
      ]
     },
     "execution_count": 27,
     "metadata": {},
     "output_type": "execute_result"
    },
    {
     "data": {
      "image/png": "[encoded data removed]",
      "text/plain": [
       "<Figure size 432x288 with 1 Axes>"
      ]
     },
     "metadata": {},
     "output_type": "display_data"
    }
   ],
   "source": [
    "video_file = '4/video4.h264'\n",
    "cap = cv2.VideoCapture(video_file)\n",
    "ret,frame = cap.read()\n",
    "plt.imshow(frame)"
   ]
  },
  {
   "cell_type": "code",
   "execution_count": 18,
   "metadata": {},
   "outputs": [],
   "source": [
    "def calu_dep(imagefile,depfile):\n",
    "    ckptfile = 'F:/pfe/cnn_slam/FCRN-DepthPrediction-master/ckpt/NYU_FCRN.ckpt'\n",
    "    my_file = Path(depfile)\n",
    "    if not my_file.is_file():\n",
    "        os.system(\"python predict.py \"+ ckptfile + \" \" +imagefile+\" \"+depfile )\n",
    "    return 0"
   ]
  },
  {
   "cell_type": "code",
   "execution_count": 19,
   "metadata": {},
   "outputs": [],
   "source": [
    "def calucate_dep(init_image):\n",
    "    cv2.imwrite('temp.jpg',init_image)\n",
    "    a = calu_dep('temp.jpg','dep.npy')\n",
    "    return np.load('dep.npy')"
   ]
  },
  {
   "cell_type": "code",
   "execution_count": 28,
   "metadata": {},
   "outputs": [],
   "source": [
    "dep = calucate_dep(frame)"
   ]
  }
 ],
 "metadata": {
  "kernelspec": {
   "display_name": "python 3.5 tf gpu",
   "language": "python",
   "name": "tensorflow_gpu"
  },
  "language_info": {
   "codemirror_mode": {
    "name": "ipython",
    "version": 3
   },
   "file_extension": ".py",
   "mimetype": "text/x-python",
   "name": "python",
   "nbconvert_exporter": "python",
   "pygments_lexer": "ipython3",
   "version": "3.5.5"
  }
 },
 "nbformat": 4,
 "nbformat_minor": 2
}
