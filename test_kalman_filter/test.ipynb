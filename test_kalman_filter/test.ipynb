{
 "cells": [
  {
   "cell_type": "code",
   "execution_count": 1,
   "metadata": {},
   "outputs": [],
   "source": [
    "from utils_kalman import *\n",
    "from utils import *"
   ]
  },
  {
   "cell_type": "code",
   "execution_count": 7,
   "metadata": {},
   "outputs": [
    {
     "ename": "NameError",
     "evalue": "name 'rotate_from_video' is not defined",
     "output_type": "error",
     "traceback": [
      "\u001b[1;31m---------------------------------------------------------------------------\u001b[0m",
      "\u001b[1;31mNameError\u001b[0m                                 Traceback (most recent call last)",
      "\u001b[1;32m<ipython-input-7-907cbceacc41>\u001b[0m in \u001b[0;36m<module>\u001b[1;34m()\u001b[0m\n\u001b[0;32m      6\u001b[0m     \u001b[0mdepfile\u001b[0m \u001b[1;33m=\u001b[0m \u001b[1;34m'keys/deps/'\u001b[0m\u001b[1;33m+\u001b[0m\u001b[0mstr\u001b[0m\u001b[1;33m(\u001b[0m\u001b[0mi\u001b[0m\u001b[1;33m+\u001b[0m\u001b[1;36m1\u001b[0m\u001b[1;33m)\u001b[0m\u001b[1;33m+\u001b[0m\u001b[1;34m'.npy'\u001b[0m\u001b[1;33m\u001b[0m\u001b[0m\n\u001b[0;32m      7\u001b[0m     \u001b[0mvideofile\u001b[0m \u001b[1;33m=\u001b[0m \u001b[1;34m'keys/videos/video80'\u001b[0m\u001b[1;33m+\u001b[0m\u001b[0mstr\u001b[0m\u001b[1;33m(\u001b[0m\u001b[0mi\u001b[0m\u001b[1;33m)\u001b[0m\u001b[1;33m+\u001b[0m\u001b[1;34m'.h264'\u001b[0m\u001b[1;33m\u001b[0m\u001b[0m\n\u001b[1;32m----> 8\u001b[1;33m     \u001b[0mold_res\u001b[0m \u001b[1;33m=\u001b[0m \u001b[0madd_image_25_06\u001b[0m\u001b[1;33m(\u001b[0m\u001b[0mimagefile\u001b[0m\u001b[1;33m,\u001b[0m \u001b[0mdepfile\u001b[0m\u001b[1;33m,\u001b[0m \u001b[0mvideofile\u001b[0m\u001b[1;33m,\u001b[0m \u001b[0mold_res\u001b[0m\u001b[1;33m,\u001b[0m \u001b[0mi\u001b[0m\u001b[1;33m)\u001b[0m\u001b[1;33m\u001b[0m\u001b[0m\n\u001b[0m\u001b[0;32m      9\u001b[0m \u001b[0mwrite_ply\u001b[0m\u001b[1;33m(\u001b[0m\u001b[1;34m'keys/fin.ply'\u001b[0m\u001b[1;33m,\u001b[0m\u001b[0mold_res\u001b[0m\u001b[1;33m)\u001b[0m\u001b[1;33m\u001b[0m\u001b[0m\n",
      "\u001b[1;32mF:\\pfe\\kalman_filter\\utils.py\u001b[0m in \u001b[0;36madd_image_25_06\u001b[1;34m(imagefile, depfile, videofile, old_res, iteration, seg)\u001b[0m\n\u001b[0;32m    144\u001b[0m     \u001b[0mdep\u001b[0m \u001b[1;33m=\u001b[0m \u001b[0mremake_depth_projecting_pts_to_floor\u001b[0m\u001b[1;33m(\u001b[0m\u001b[0mdep\u001b[0m\u001b[1;33m,\u001b[0m\u001b[0mmtx\u001b[0m\u001b[1;33m)\u001b[0m\u001b[1;33m\u001b[0m\u001b[0m\n\u001b[0;32m    145\u001b[0m     \u001b[0ml\u001b[0m \u001b[1;33m=\u001b[0m \u001b[0miteration\u001b[0m\u001b[1;33m\u001b[0m\u001b[0m\n\u001b[1;32m--> 146\u001b[1;33m \u001b[1;33m\u001b[0m\u001b[0m\n\u001b[0m\u001b[0;32m    147\u001b[0m     \u001b[0mM\u001b[0m \u001b[1;33m=\u001b[0m \u001b[0mget_matrix_from_video\u001b[0m\u001b[1;33m(\u001b[0m\u001b[0mvideofile\u001b[0m\u001b[1;33m)\u001b[0m\u001b[1;33m\u001b[0m\u001b[0m\n\u001b[0;32m    148\u001b[0m     \u001b[0mMs\u001b[0m \u001b[1;33m=\u001b[0m \u001b[0mglob\u001b[0m\u001b[1;33m.\u001b[0m\u001b[0mglob\u001b[0m\u001b[1;33m(\u001b[0m\u001b[1;34m'keys/Ms/*.npy'\u001b[0m\u001b[1;33m)\u001b[0m\u001b[1;33m\u001b[0m\u001b[0m\n",
      "\u001b[1;32mF:\\pfe\\kalman_filter\\utils.py\u001b[0m in \u001b[0;36mget_matrix_from_video\u001b[1;34m(videofile)\u001b[0m\n\u001b[0;32m    118\u001b[0m     \u001b[1;32mreturn\u001b[0m \u001b[0mnew_dep\u001b[0m\u001b[1;33m\u001b[0m\u001b[0m\n\u001b[0;32m    119\u001b[0m \u001b[1;33m\u001b[0m\u001b[0m\n\u001b[1;32m--> 120\u001b[1;33m \u001b[1;32mdef\u001b[0m \u001b[0mget_matrix_from_video\u001b[0m\u001b[1;33m(\u001b[0m\u001b[0mvideofile\u001b[0m\u001b[1;33m)\u001b[0m\u001b[1;33m:\u001b[0m\u001b[1;33m\u001b[0m\u001b[0m\n\u001b[0m\u001b[0;32m    121\u001b[0m     \u001b[0mang1\u001b[0m \u001b[1;33m=\u001b[0m \u001b[0mrotate_from_video\u001b[0m\u001b[1;33m(\u001b[0m\u001b[0mvideo_file\u001b[0m\u001b[1;33m)\u001b[0m\u001b[1;33m\u001b[0m\u001b[0m\n\u001b[0;32m    122\u001b[0m     \u001b[0mdis\u001b[0m\u001b[1;33m,\u001b[0m \u001b[0mang2\u001b[0m \u001b[1;33m=\u001b[0m \u001b[0mrotate_and_translation_from_video\u001b[0m\u001b[1;33m(\u001b[0m\u001b[0mvideo_file\u001b[0m\u001b[1;33m)\u001b[0m\u001b[1;33m\u001b[0m\u001b[0m\n",
      "\u001b[1;31mNameError\u001b[0m: name 'rotate_from_video' is not defined"
     ]
    }
   ],
   "source": [
    "num = 8\n",
    "\n",
    "old_res = None\n",
    "for i in range(num):\n",
    "    imagefile = 'keys/image0/'+str(i)+'_'+str(i)+'.jpg'\n",
    "    depfile = 'keys/deps/'+str(i+1)+'.npy'\n",
    "    videofile = 'keys/videos/video80'+str(i)+'.h264'\n",
    "    old_res = add_image_25_06(imagefile, depfile, videofile, old_res, i)\n",
    "write_ply('keys/fin.ply',old_res)"
   ]
  },
  {
   "cell_type": "code",
   "execution_count": null,
   "metadata": {},
   "outputs": [],
   "source": []
  },
  {
   "cell_type": "code",
   "execution_count": 2,
   "metadata": {},
   "outputs": [],
   "source": [
    "def calu_dep_real_time(imagefile,depfile):\n",
    "    print(\"start real time depth prediction.\")\n",
    "    os.system(\"python predictv2.py \"+ ckptfile + \" \" +imagefile+\" \"+depfile )\n",
    "    return 0"
   ]
  },
  {
   "cell_type": "code",
   "execution_count": 3,
   "metadata": {},
   "outputs": [
    {
     "name": "stdout",
     "output_type": "stream",
     "text": [
      "start real time depth prediction.\n"
     ]
    },
    {
     "data": {
      "text/plain": [
       "0"
      ]
     },
     "execution_count": 3,
     "metadata": {},
     "output_type": "execute_result"
    }
   ],
   "source": [
    "imagefile = 'keys/image0'\n",
    "depfile = 'keys/deps'\n",
    "calu_dep_real_time(imagefile,depfile)"
   ]
  }
 ],
 "metadata": {
  "kernelspec": {
   "display_name": "python 3.5 tf gpu",
   "language": "python",
   "name": "tensorflow_gpu"
  },
  "language_info": {
   "codemirror_mode": {
    "name": "ipython",
    "version": 3
   },
   "file_extension": ".py",
   "mimetype": "text/x-python",
   "name": "python",
   "nbconvert_exporter": "python",
   "pygments_lexer": "ipython3",
   "version": "3.5.5"
  }
 },
 "nbformat": 4,
 "nbformat_minor": 2
}
